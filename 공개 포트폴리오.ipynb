{
 "cells": [
  {
   "cell_type": "markdown",
   "metadata": {},
   "source": [
    "* 펀드슈퍼마켓 서비스 내 공개포트폴리오에 있는 포트폴리오 정보를 수집하여 시기별로 사람들이 관심이 있는 펀드는 무엇인지 살펴보자\n",
    "* 참고 : http://fundsupermarket.co.kr/fmm/FMM1010501/main.do\n",
    "* 하나의 공개 포트폴리오는 2~5개의 펀드로 구성되어 있다.\n",
    "* 수집할 데이터의 양식은 다음과 같이 하자\n",
    "* 포트폴리오제목 / 펀드 1 / 펀드 2 / 펀드 3 / 펀드 4 / 펀드 5 / 등록일자"
   ]
  },
  {
   "cell_type": "code",
   "execution_count": 1,
   "metadata": {},
   "outputs": [
    {
     "name": "stderr",
     "output_type": "stream",
     "text": [
      "Loading required package: xml2\n",
      "\n",
      "Attaching package: 'dplyr'\n",
      "\n",
      "The following objects are masked from 'package:stats':\n",
      "\n",
      "    filter, lag\n",
      "\n",
      "The following objects are masked from 'package:base':\n",
      "\n",
      "    intersect, setdiff, setequal, union\n",
      "\n"
     ]
    }
   ],
   "source": [
    "# 크롤링 및 전처리에 필요한 패키지 로드\n",
    "\n",
    "library(rvest)\n",
    "library(httr)\n",
    "library(dplyr)\n",
    "library(stringr)"
   ]
  },
  {
   "cell_type": "code",
   "execution_count": 2,
   "metadata": {},
   "outputs": [],
   "source": [
    "# 크롤링할 페이지의 url을 변수로 지정하여 for문을 통해 페이지 변경을 진행\n",
    "url = \"http://www.fundsupermarket.co.kr/fmm/FMM1010501/main.do?iPageNum=\"\n",
    "\n",
    "# 크롤링할 변수를 기록할 벡터를 생성\n",
    "title_record <- NULL\n",
    "fund_record <- NULL\n",
    "day_record <- NULL\n",
    "fund_len_record <- NULL"
   ]
  },
  {
   "cell_type": "code",
   "execution_count": null,
   "metadata": {},
   "outputs": [],
   "source": [
    "# 데이터 수집\n",
    "\n",
    "for(i in 1:597){\n",
    "  tmp_url <- paste0(url,i)\n",
    "  data <- GET(tmp_url)\n",
    "  read_file <- read_html(data)\n",
    "  \n",
    "  # 포트폴리오명 크롤링\n",
    "  title <- read_file %>%\n",
    "    html_nodes(css = '.cartp-tit-area') %>%\n",
    "    html_nodes('a') %>%\n",
    "    html_text() %>%\n",
    "    unlist()\n",
    "  title <- title[((1:length(title)) %% 5) == 1]\n",
    "  title_record <- append(title_record, title)\n",
    "  \n",
    "  # 포트폴리오 내 펀드 크롤링\n",
    "  portfolio <- read_file %>%\n",
    "    html_nodes(css = '.tbl-vtype1')\n",
    "  portfolio_fund <- portfolio[-1] %>%\n",
    "    html_nodes('.txt-hidden') %>%\n",
    "    html_text()\n",
    "  num_portfolio <- length(portfolio)-1\n",
    "  nums_portfolio <- NULL\n",
    "  for(j in 2:(num_portfolio+1)){\n",
    "    nums_portfolio[j-1] <- gregexpr('fund_code', portfolio[j]) %>%\n",
    "      unlist() %>%\n",
    "      length()\n",
    "  }\n",
    "  fund_record <- append(fund_record, portfolio_fund)\n",
    "  fund_len_record <- append(fund_len_record, nums_portfolio)\n",
    "  \n",
    "  # 등록일자 크롤링\n",
    "  day <- NULL\n",
    "  path <- paste0(\"//*[@id=\\\"container\\\"]/div[1]/div[3]/div[\", c(1,3,5,7,9) ,\"]/div[2]/span[8]\")\n",
    "  for(k in 1:num_portfolio){\n",
    "    day[k] <- portfolio[k+1] %>%\n",
    "      html_nodes(xpath=path[k]) %>%\n",
    "      html_text()\n",
    "  }\n",
    "  day <- gsub(\"\\n|\\t| \",\"\",day)\n",
    "  day <- str_sub(day, 1, 10)\n",
    "  day_record <- append(day_record, day)\n",
    "  \n",
    "  cat('\\n',i)\n",
    "}"
   ]
  },
  {
   "cell_type": "code",
   "execution_count": null,
   "metadata": {},
   "outputs": [],
   "source": [
    "# 데이터를 저장할 데이터프레임을 생성\n",
    "df <- data.frame(matrix(nrow=length(title_record), ncol=7))\n",
    "colnames(df) <- c(\"title\", 'fund1', 'fund2', 'fund3', 'fund4', 'fund5', 'date')\n",
    "tmp <- 0\n",
    "\n",
    "# 기존에 수집한 데이터를 양식에 맞게 데이터프레임에 저장\n",
    "for(i in 1:length(title_record)){\n",
    "  df[i,1] <- title_record[i]\n",
    "  for(j in 1:fund_len_record[i]){\n",
    "    df[i,(j+1)] <- fund_record[tmp+j]\n",
    "  }\n",
    "  tmp <- tmp + fund_len_record[i]\n",
    "  df[i,7] <- day_record[i]\n",
    "  cat('\\n',i)\n",
    "}\n",
    "\n",
    "write.csv(df, \"../data/portfolio.csv\")"
   ]
  },
  {
   "cell_type": "markdown",
   "metadata": {},
   "source": [
    "* 분석은 다시 진행하자"
   ]
  },
  {
   "cell_type": "code",
   "execution_count": null,
   "metadata": {},
   "outputs": [],
   "source": []
  }
 ],
 "metadata": {
  "kernelspec": {
   "display_name": "R",
   "language": "R",
   "name": "ir"
  },
  "language_info": {
   "codemirror_mode": "r",
   "file_extension": ".r",
   "mimetype": "text/x-r-source",
   "name": "R",
   "pygments_lexer": "r",
   "version": "3.5.1"
  },
  "varInspector": {
   "cols": {
    "lenName": 16,
    "lenType": 16,
    "lenVar": 40
   },
   "kernels_config": {
    "python": {
     "delete_cmd_postfix": "",
     "delete_cmd_prefix": "del ",
     "library": "var_list.py",
     "varRefreshCmd": "print(var_dic_list())"
    },
    "r": {
     "delete_cmd_postfix": ") ",
     "delete_cmd_prefix": "rm(",
     "library": "var_list.r",
     "varRefreshCmd": "cat(var_dic_list()) "
    }
   },
   "types_to_exclude": [
    "module",
    "function",
    "builtin_function_or_method",
    "instance",
    "_Feature"
   ],
   "window_display": false
  }
 },
 "nbformat": 4,
 "nbformat_minor": 2
}
